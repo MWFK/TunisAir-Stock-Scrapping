{
  "nbformat": 4,
  "nbformat_minor": 0,
  "metadata": {
    "colab": {
      "name": "Basic Classical ML Prediction Models.ipynb",
      "provenance": [],
      "authorship_tag": "ABX9TyNHf1crA232aHRRu1eNYrSR",
      "include_colab_link": true
    },
    "kernelspec": {
      "name": "python3",
      "display_name": "Python 3"
    },
    "language_info": {
      "name": "python"
    }
  },
  "cells": [
    {
      "cell_type": "markdown",
      "metadata": {
        "id": "view-in-github",
        "colab_type": "text"
      },
      "source": [
        "<a href=\"https://colab.research.google.com/github/MWFK/TunisAir-Stock-Scrapping-Predicting/blob/main/Basic_Classical_ML_Prediction_Models.ipynb\" target=\"_parent\"><img src=\"https://colab.research.google.com/assets/colab-badge.svg\" alt=\"Open In Colab\"/></a>"
      ]
    },
    {
      "cell_type": "markdown",
      "metadata": {
        "id": "6O9E94XEr_Vy"
      },
      "source": [
        "# Libs"
      ]
    },
    {
      "cell_type": "code",
      "metadata": {
        "id": "Y3kR6ykWrOGA"
      },
      "source": [
        "import pandas as pd\n",
        "import numpy as np\n",
        "\n",
        "from sklearn.preprocessing import MinMaxScaler\n",
        "from sklearn.model_selection import train_test_split\n",
        "from sklearn import metrics\n",
        "\n",
        "from sklearn.linear_model import LinearRegression\n",
        "from sklearn.tree import DecisionTreeRegressor\n",
        "from sklearn.ensemble import RandomForestRegressor"
      ],
      "execution_count": 109,
      "outputs": []
    },
    {
      "cell_type": "markdown",
      "metadata": {
        "id": "JwXZ5c6-sGUd"
      },
      "source": [
        "# Data"
      ]
    },
    {
      "cell_type": "code",
      "metadata": {
        "colab": {
          "base_uri": "https://localhost:8080/",
          "height": 206
        },
        "id": "7SCPM0g2sDD2",
        "outputId": "385c7fdd-c83b-4262-9aad-de582e18fe26"
      },
      "source": [
        "url = 'https://raw.githubusercontent.com/MWFK/TunisAir-Stock-Scrapping-Predicting/main/TAIR_21_20_19_18_17.csv'\n",
        "column_names = ['symbole', 'date', 'ouverture', 'haut', 'bas', 'cloture', 'volume']\n",
        "\n",
        "data = pd.read_csv(url, names=column_names, sep=';', header=0, decimal=',')\n",
        "data.head()"
      ],
      "execution_count": 110,
      "outputs": [
        {
          "output_type": "execute_result",
          "data": {
            "text/html": [
              "<div>\n",
              "<style scoped>\n",
              "    .dataframe tbody tr th:only-of-type {\n",
              "        vertical-align: middle;\n",
              "    }\n",
              "\n",
              "    .dataframe tbody tr th {\n",
              "        vertical-align: top;\n",
              "    }\n",
              "\n",
              "    .dataframe thead th {\n",
              "        text-align: right;\n",
              "    }\n",
              "</style>\n",
              "<table border=\"1\" class=\"dataframe\">\n",
              "  <thead>\n",
              "    <tr style=\"text-align: right;\">\n",
              "      <th></th>\n",
              "      <th>symbole</th>\n",
              "      <th>date</th>\n",
              "      <th>ouverture</th>\n",
              "      <th>haut</th>\n",
              "      <th>bas</th>\n",
              "      <th>cloture</th>\n",
              "      <th>volume</th>\n",
              "    </tr>\n",
              "  </thead>\n",
              "  <tbody>\n",
              "    <tr>\n",
              "      <th>0</th>\n",
              "      <td>TAIR</td>\n",
              "      <td>02/01/2017</td>\n",
              "      <td>0.60</td>\n",
              "      <td>0.6</td>\n",
              "      <td>0.59</td>\n",
              "      <td>0.6</td>\n",
              "      <td>4651</td>\n",
              "    </tr>\n",
              "    <tr>\n",
              "      <th>1</th>\n",
              "      <td>TAIR</td>\n",
              "      <td>03/01/2017</td>\n",
              "      <td>0.60</td>\n",
              "      <td>0.6</td>\n",
              "      <td>0.59</td>\n",
              "      <td>0.6</td>\n",
              "      <td>1159</td>\n",
              "    </tr>\n",
              "    <tr>\n",
              "      <th>2</th>\n",
              "      <td>TAIR</td>\n",
              "      <td>04/01/2017</td>\n",
              "      <td>0.60</td>\n",
              "      <td>0.6</td>\n",
              "      <td>0.59</td>\n",
              "      <td>0.6</td>\n",
              "      <td>19524</td>\n",
              "    </tr>\n",
              "    <tr>\n",
              "      <th>3</th>\n",
              "      <td>TAIR</td>\n",
              "      <td>05/01/2017</td>\n",
              "      <td>0.60</td>\n",
              "      <td>0.6</td>\n",
              "      <td>0.59</td>\n",
              "      <td>0.6</td>\n",
              "      <td>2205</td>\n",
              "    </tr>\n",
              "    <tr>\n",
              "      <th>4</th>\n",
              "      <td>TAIR</td>\n",
              "      <td>06/01/2017</td>\n",
              "      <td>0.59</td>\n",
              "      <td>0.6</td>\n",
              "      <td>0.59</td>\n",
              "      <td>0.6</td>\n",
              "      <td>42941</td>\n",
              "    </tr>\n",
              "  </tbody>\n",
              "</table>\n",
              "</div>"
            ],
            "text/plain": [
              "  symbole        date  ouverture  haut   bas  cloture  volume\n",
              "0    TAIR  02/01/2017       0.60   0.6  0.59      0.6    4651\n",
              "1    TAIR  03/01/2017       0.60   0.6  0.59      0.6    1159\n",
              "2    TAIR  04/01/2017       0.60   0.6  0.59      0.6   19524\n",
              "3    TAIR  05/01/2017       0.60   0.6  0.59      0.6    2205\n",
              "4    TAIR  06/01/2017       0.59   0.6  0.59      0.6   42941"
            ]
          },
          "metadata": {
            "tags": []
          },
          "execution_count": 110
        }
      ]
    },
    {
      "cell_type": "markdown",
      "metadata": {
        "id": "CbT9HGyItlU_"
      },
      "source": [
        "# Processing"
      ]
    },
    {
      "cell_type": "code",
      "metadata": {
        "colab": {
          "base_uri": "https://localhost:8080/",
          "height": 363
        },
        "id": "itdDcNg8xr81",
        "outputId": "2afecac5-71e9-4520-bfda-75724506a257"
      },
      "source": [
        "column_names = ['symbole', 'date', 'ouverture', 'haut', 'bas', 'volume', 'cloture']\n",
        "data = data[column_names]\n",
        "data.head(10)"
      ],
      "execution_count": 111,
      "outputs": [
        {
          "output_type": "execute_result",
          "data": {
            "text/html": [
              "<div>\n",
              "<style scoped>\n",
              "    .dataframe tbody tr th:only-of-type {\n",
              "        vertical-align: middle;\n",
              "    }\n",
              "\n",
              "    .dataframe tbody tr th {\n",
              "        vertical-align: top;\n",
              "    }\n",
              "\n",
              "    .dataframe thead th {\n",
              "        text-align: right;\n",
              "    }\n",
              "</style>\n",
              "<table border=\"1\" class=\"dataframe\">\n",
              "  <thead>\n",
              "    <tr style=\"text-align: right;\">\n",
              "      <th></th>\n",
              "      <th>symbole</th>\n",
              "      <th>date</th>\n",
              "      <th>ouverture</th>\n",
              "      <th>haut</th>\n",
              "      <th>bas</th>\n",
              "      <th>volume</th>\n",
              "      <th>cloture</th>\n",
              "    </tr>\n",
              "  </thead>\n",
              "  <tbody>\n",
              "    <tr>\n",
              "      <th>0</th>\n",
              "      <td>TAIR</td>\n",
              "      <td>02/01/2017</td>\n",
              "      <td>0.60</td>\n",
              "      <td>0.60</td>\n",
              "      <td>0.59</td>\n",
              "      <td>4651</td>\n",
              "      <td>0.60</td>\n",
              "    </tr>\n",
              "    <tr>\n",
              "      <th>1</th>\n",
              "      <td>TAIR</td>\n",
              "      <td>03/01/2017</td>\n",
              "      <td>0.60</td>\n",
              "      <td>0.60</td>\n",
              "      <td>0.59</td>\n",
              "      <td>1159</td>\n",
              "      <td>0.60</td>\n",
              "    </tr>\n",
              "    <tr>\n",
              "      <th>2</th>\n",
              "      <td>TAIR</td>\n",
              "      <td>04/01/2017</td>\n",
              "      <td>0.60</td>\n",
              "      <td>0.60</td>\n",
              "      <td>0.59</td>\n",
              "      <td>19524</td>\n",
              "      <td>0.60</td>\n",
              "    </tr>\n",
              "    <tr>\n",
              "      <th>3</th>\n",
              "      <td>TAIR</td>\n",
              "      <td>05/01/2017</td>\n",
              "      <td>0.60</td>\n",
              "      <td>0.60</td>\n",
              "      <td>0.59</td>\n",
              "      <td>2205</td>\n",
              "      <td>0.60</td>\n",
              "    </tr>\n",
              "    <tr>\n",
              "      <th>4</th>\n",
              "      <td>TAIR</td>\n",
              "      <td>06/01/2017</td>\n",
              "      <td>0.59</td>\n",
              "      <td>0.60</td>\n",
              "      <td>0.59</td>\n",
              "      <td>42941</td>\n",
              "      <td>0.60</td>\n",
              "    </tr>\n",
              "    <tr>\n",
              "      <th>5</th>\n",
              "      <td>TAIR</td>\n",
              "      <td>09/01/2017</td>\n",
              "      <td>0.59</td>\n",
              "      <td>0.60</td>\n",
              "      <td>0.59</td>\n",
              "      <td>7313</td>\n",
              "      <td>0.60</td>\n",
              "    </tr>\n",
              "    <tr>\n",
              "      <th>6</th>\n",
              "      <td>TAIR</td>\n",
              "      <td>10/01/2017</td>\n",
              "      <td>0.60</td>\n",
              "      <td>0.60</td>\n",
              "      <td>0.59</td>\n",
              "      <td>34185</td>\n",
              "      <td>0.60</td>\n",
              "    </tr>\n",
              "    <tr>\n",
              "      <th>7</th>\n",
              "      <td>TAIR</td>\n",
              "      <td>11/01/2017</td>\n",
              "      <td>0.58</td>\n",
              "      <td>0.60</td>\n",
              "      <td>0.58</td>\n",
              "      <td>37960</td>\n",
              "      <td>0.58</td>\n",
              "    </tr>\n",
              "    <tr>\n",
              "      <th>8</th>\n",
              "      <td>TAIR</td>\n",
              "      <td>12/01/2017</td>\n",
              "      <td>0.58</td>\n",
              "      <td>0.59</td>\n",
              "      <td>0.57</td>\n",
              "      <td>31085</td>\n",
              "      <td>0.59</td>\n",
              "    </tr>\n",
              "    <tr>\n",
              "      <th>9</th>\n",
              "      <td>TAIR</td>\n",
              "      <td>13/01/2017</td>\n",
              "      <td>0.58</td>\n",
              "      <td>0.59</td>\n",
              "      <td>0.58</td>\n",
              "      <td>15664</td>\n",
              "      <td>0.59</td>\n",
              "    </tr>\n",
              "  </tbody>\n",
              "</table>\n",
              "</div>"
            ],
            "text/plain": [
              "  symbole        date  ouverture  haut   bas  volume  cloture\n",
              "0    TAIR  02/01/2017       0.60  0.60  0.59    4651     0.60\n",
              "1    TAIR  03/01/2017       0.60  0.60  0.59    1159     0.60\n",
              "2    TAIR  04/01/2017       0.60  0.60  0.59   19524     0.60\n",
              "3    TAIR  05/01/2017       0.60  0.60  0.59    2205     0.60\n",
              "4    TAIR  06/01/2017       0.59  0.60  0.59   42941     0.60\n",
              "5    TAIR  09/01/2017       0.59  0.60  0.59    7313     0.60\n",
              "6    TAIR  10/01/2017       0.60  0.60  0.59   34185     0.60\n",
              "7    TAIR  11/01/2017       0.58  0.60  0.58   37960     0.58\n",
              "8    TAIR  12/01/2017       0.58  0.59  0.57   31085     0.59\n",
              "9    TAIR  13/01/2017       0.58  0.59  0.58   15664     0.59"
            ]
          },
          "metadata": {
            "tags": []
          },
          "execution_count": 111
        }
      ]
    },
    {
      "cell_type": "code",
      "metadata": {
        "colab": {
          "base_uri": "https://localhost:8080/",
          "height": 206
        },
        "id": "O_P8cp-R2n4C",
        "outputId": "b5d58992-dcd8-4ac6-9f29-23103072896c"
      },
      "source": [
        "# Elimination of the Look-Ahead Bias\n",
        "data.drop(['ouverture', 'haut', 'bas'], axis=1, inplace=True)\n",
        "data.head()"
      ],
      "execution_count": 112,
      "outputs": [
        {
          "output_type": "execute_result",
          "data": {
            "text/html": [
              "<div>\n",
              "<style scoped>\n",
              "    .dataframe tbody tr th:only-of-type {\n",
              "        vertical-align: middle;\n",
              "    }\n",
              "\n",
              "    .dataframe tbody tr th {\n",
              "        vertical-align: top;\n",
              "    }\n",
              "\n",
              "    .dataframe thead th {\n",
              "        text-align: right;\n",
              "    }\n",
              "</style>\n",
              "<table border=\"1\" class=\"dataframe\">\n",
              "  <thead>\n",
              "    <tr style=\"text-align: right;\">\n",
              "      <th></th>\n",
              "      <th>symbole</th>\n",
              "      <th>date</th>\n",
              "      <th>volume</th>\n",
              "      <th>cloture</th>\n",
              "    </tr>\n",
              "  </thead>\n",
              "  <tbody>\n",
              "    <tr>\n",
              "      <th>0</th>\n",
              "      <td>TAIR</td>\n",
              "      <td>02/01/2017</td>\n",
              "      <td>4651</td>\n",
              "      <td>0.6</td>\n",
              "    </tr>\n",
              "    <tr>\n",
              "      <th>1</th>\n",
              "      <td>TAIR</td>\n",
              "      <td>03/01/2017</td>\n",
              "      <td>1159</td>\n",
              "      <td>0.6</td>\n",
              "    </tr>\n",
              "    <tr>\n",
              "      <th>2</th>\n",
              "      <td>TAIR</td>\n",
              "      <td>04/01/2017</td>\n",
              "      <td>19524</td>\n",
              "      <td>0.6</td>\n",
              "    </tr>\n",
              "    <tr>\n",
              "      <th>3</th>\n",
              "      <td>TAIR</td>\n",
              "      <td>05/01/2017</td>\n",
              "      <td>2205</td>\n",
              "      <td>0.6</td>\n",
              "    </tr>\n",
              "    <tr>\n",
              "      <th>4</th>\n",
              "      <td>TAIR</td>\n",
              "      <td>06/01/2017</td>\n",
              "      <td>42941</td>\n",
              "      <td>0.6</td>\n",
              "    </tr>\n",
              "  </tbody>\n",
              "</table>\n",
              "</div>"
            ],
            "text/plain": [
              "  symbole        date  volume  cloture\n",
              "0    TAIR  02/01/2017    4651      0.6\n",
              "1    TAIR  03/01/2017    1159      0.6\n",
              "2    TAIR  04/01/2017   19524      0.6\n",
              "3    TAIR  05/01/2017    2205      0.6\n",
              "4    TAIR  06/01/2017   42941      0.6"
            ]
          },
          "metadata": {
            "tags": []
          },
          "execution_count": 112
        }
      ]
    },
    {
      "cell_type": "code",
      "metadata": {
        "colab": {
          "base_uri": "https://localhost:8080/",
          "height": 315
        },
        "id": "_tLzH7Sm3tLa",
        "outputId": "cb496378-ca49-4bac-9a45-2f0463218c89"
      },
      "source": [
        "# data[\"date\"] = pd.to_datetime(data[\"date\"]).dt.date\n",
        "data[\"date\"] = pd.to_datetime(data[\"date\"])\n",
        "print(data.dtypes)\n",
        "print(data.iloc[1,1])\n",
        "data.head()"
      ],
      "execution_count": 115,
      "outputs": [
        {
          "output_type": "stream",
          "text": [
            "symbole            object\n",
            "date       datetime64[ns]\n",
            "volume              int64\n",
            "cloture           float64\n",
            "dtype: object\n",
            "2017-03-01 00:00:00\n"
          ],
          "name": "stdout"
        },
        {
          "output_type": "execute_result",
          "data": {
            "text/html": [
              "<div>\n",
              "<style scoped>\n",
              "    .dataframe tbody tr th:only-of-type {\n",
              "        vertical-align: middle;\n",
              "    }\n",
              "\n",
              "    .dataframe tbody tr th {\n",
              "        vertical-align: top;\n",
              "    }\n",
              "\n",
              "    .dataframe thead th {\n",
              "        text-align: right;\n",
              "    }\n",
              "</style>\n",
              "<table border=\"1\" class=\"dataframe\">\n",
              "  <thead>\n",
              "    <tr style=\"text-align: right;\">\n",
              "      <th></th>\n",
              "      <th>symbole</th>\n",
              "      <th>date</th>\n",
              "      <th>volume</th>\n",
              "      <th>cloture</th>\n",
              "    </tr>\n",
              "  </thead>\n",
              "  <tbody>\n",
              "    <tr>\n",
              "      <th>0</th>\n",
              "      <td>TAIR</td>\n",
              "      <td>2017-02-01</td>\n",
              "      <td>4651</td>\n",
              "      <td>0.6</td>\n",
              "    </tr>\n",
              "    <tr>\n",
              "      <th>1</th>\n",
              "      <td>TAIR</td>\n",
              "      <td>2017-03-01</td>\n",
              "      <td>1159</td>\n",
              "      <td>0.6</td>\n",
              "    </tr>\n",
              "    <tr>\n",
              "      <th>2</th>\n",
              "      <td>TAIR</td>\n",
              "      <td>2017-04-01</td>\n",
              "      <td>19524</td>\n",
              "      <td>0.6</td>\n",
              "    </tr>\n",
              "    <tr>\n",
              "      <th>3</th>\n",
              "      <td>TAIR</td>\n",
              "      <td>2017-05-01</td>\n",
              "      <td>2205</td>\n",
              "      <td>0.6</td>\n",
              "    </tr>\n",
              "    <tr>\n",
              "      <th>4</th>\n",
              "      <td>TAIR</td>\n",
              "      <td>2017-06-01</td>\n",
              "      <td>42941</td>\n",
              "      <td>0.6</td>\n",
              "    </tr>\n",
              "  </tbody>\n",
              "</table>\n",
              "</div>"
            ],
            "text/plain": [
              "  symbole       date  volume  cloture\n",
              "0    TAIR 2017-02-01    4651      0.6\n",
              "1    TAIR 2017-03-01    1159      0.6\n",
              "2    TAIR 2017-04-01   19524      0.6\n",
              "3    TAIR 2017-05-01    2205      0.6\n",
              "4    TAIR 2017-06-01   42941      0.6"
            ]
          },
          "metadata": {
            "tags": []
          },
          "execution_count": 115
        }
      ]
    },
    {
      "cell_type": "code",
      "metadata": {
        "colab": {
          "base_uri": "https://localhost:8080/",
          "height": 206
        },
        "id": "L-nBsuxNNejt",
        "outputId": "00098859-d0d4-434b-9cc9-c1ced24afbba"
      },
      "source": [
        "# There're many other interesting feature engineering when it comes to date, but we're keeping it basic\n",
        "data['date'] = data['date'].dt.strftime(\"%Y%m%d\").astype(int)\n",
        "data.head()"
      ],
      "execution_count": 116,
      "outputs": [
        {
          "output_type": "execute_result",
          "data": {
            "text/html": [
              "<div>\n",
              "<style scoped>\n",
              "    .dataframe tbody tr th:only-of-type {\n",
              "        vertical-align: middle;\n",
              "    }\n",
              "\n",
              "    .dataframe tbody tr th {\n",
              "        vertical-align: top;\n",
              "    }\n",
              "\n",
              "    .dataframe thead th {\n",
              "        text-align: right;\n",
              "    }\n",
              "</style>\n",
              "<table border=\"1\" class=\"dataframe\">\n",
              "  <thead>\n",
              "    <tr style=\"text-align: right;\">\n",
              "      <th></th>\n",
              "      <th>symbole</th>\n",
              "      <th>date</th>\n",
              "      <th>volume</th>\n",
              "      <th>cloture</th>\n",
              "    </tr>\n",
              "  </thead>\n",
              "  <tbody>\n",
              "    <tr>\n",
              "      <th>0</th>\n",
              "      <td>TAIR</td>\n",
              "      <td>20170201</td>\n",
              "      <td>4651</td>\n",
              "      <td>0.6</td>\n",
              "    </tr>\n",
              "    <tr>\n",
              "      <th>1</th>\n",
              "      <td>TAIR</td>\n",
              "      <td>20170301</td>\n",
              "      <td>1159</td>\n",
              "      <td>0.6</td>\n",
              "    </tr>\n",
              "    <tr>\n",
              "      <th>2</th>\n",
              "      <td>TAIR</td>\n",
              "      <td>20170401</td>\n",
              "      <td>19524</td>\n",
              "      <td>0.6</td>\n",
              "    </tr>\n",
              "    <tr>\n",
              "      <th>3</th>\n",
              "      <td>TAIR</td>\n",
              "      <td>20170501</td>\n",
              "      <td>2205</td>\n",
              "      <td>0.6</td>\n",
              "    </tr>\n",
              "    <tr>\n",
              "      <th>4</th>\n",
              "      <td>TAIR</td>\n",
              "      <td>20170601</td>\n",
              "      <td>42941</td>\n",
              "      <td>0.6</td>\n",
              "    </tr>\n",
              "  </tbody>\n",
              "</table>\n",
              "</div>"
            ],
            "text/plain": [
              "  symbole      date  volume  cloture\n",
              "0    TAIR  20170201    4651      0.6\n",
              "1    TAIR  20170301    1159      0.6\n",
              "2    TAIR  20170401   19524      0.6\n",
              "3    TAIR  20170501    2205      0.6\n",
              "4    TAIR  20170601   42941      0.6"
            ]
          },
          "metadata": {
            "tags": []
          },
          "execution_count": 116
        }
      ]
    },
    {
      "cell_type": "code",
      "metadata": {
        "colab": {
          "base_uri": "https://localhost:8080/",
          "height": 206
        },
        "id": "1iBEMQD77SFt",
        "outputId": "e4ecef23-5496-485f-ad19-d053db4fc51a"
      },
      "source": [
        "# Scaling the data\n",
        "scaler = MinMaxScaler()\n",
        "cols = ['date','volume', 'cloture']\n",
        "data[cols] = scaler.fit_transform(data[cols])\n",
        "data.head()"
      ],
      "execution_count": 117,
      "outputs": [
        {
          "output_type": "execute_result",
          "data": {
            "text/html": [
              "<div>\n",
              "<style scoped>\n",
              "    .dataframe tbody tr th:only-of-type {\n",
              "        vertical-align: middle;\n",
              "    }\n",
              "\n",
              "    .dataframe tbody tr th {\n",
              "        vertical-align: top;\n",
              "    }\n",
              "\n",
              "    .dataframe thead th {\n",
              "        text-align: right;\n",
              "    }\n",
              "</style>\n",
              "<table border=\"1\" class=\"dataframe\">\n",
              "  <thead>\n",
              "    <tr style=\"text-align: right;\">\n",
              "      <th></th>\n",
              "      <th>symbole</th>\n",
              "      <th>date</th>\n",
              "      <th>volume</th>\n",
              "      <th>cloture</th>\n",
              "    </tr>\n",
              "  </thead>\n",
              "  <tbody>\n",
              "    <tr>\n",
              "      <th>0</th>\n",
              "      <td>TAIR</td>\n",
              "      <td>0.002409</td>\n",
              "      <td>0.003506</td>\n",
              "      <td>0.42</td>\n",
              "    </tr>\n",
              "    <tr>\n",
              "      <th>1</th>\n",
              "      <td>TAIR</td>\n",
              "      <td>0.004842</td>\n",
              "      <td>0.000872</td>\n",
              "      <td>0.42</td>\n",
              "    </tr>\n",
              "    <tr>\n",
              "      <th>2</th>\n",
              "      <td>TAIR</td>\n",
              "      <td>0.007275</td>\n",
              "      <td>0.014725</td>\n",
              "      <td>0.42</td>\n",
              "    </tr>\n",
              "    <tr>\n",
              "      <th>3</th>\n",
              "      <td>TAIR</td>\n",
              "      <td>0.009708</td>\n",
              "      <td>0.001661</td>\n",
              "      <td>0.42</td>\n",
              "    </tr>\n",
              "    <tr>\n",
              "      <th>4</th>\n",
              "      <td>TAIR</td>\n",
              "      <td>0.012141</td>\n",
              "      <td>0.032388</td>\n",
              "      <td>0.42</td>\n",
              "    </tr>\n",
              "  </tbody>\n",
              "</table>\n",
              "</div>"
            ],
            "text/plain": [
              "  symbole      date    volume  cloture\n",
              "0    TAIR  0.002409  0.003506     0.42\n",
              "1    TAIR  0.004842  0.000872     0.42\n",
              "2    TAIR  0.007275  0.014725     0.42\n",
              "3    TAIR  0.009708  0.001661     0.42\n",
              "4    TAIR  0.012141  0.032388     0.42"
            ]
          },
          "metadata": {
            "tags": []
          },
          "execution_count": 117
        }
      ]
    },
    {
      "cell_type": "code",
      "metadata": {
        "colab": {
          "base_uri": "https://localhost:8080/",
          "height": 279
        },
        "id": "4HQMG1xStPjB",
        "outputId": "387ee590-7ae6-4e1d-9b4e-a6704b3a851d"
      },
      "source": [
        "X = data.iloc[:,1:4]  # we do not start with the firt feature, because it has the name of the stock, and for now we'll not use the date \n",
        "X = X.astype(float)\n",
        "print(X.dtypes)  \n",
        "X.head()"
      ],
      "execution_count": 119,
      "outputs": [
        {
          "output_type": "stream",
          "text": [
            "date       float64\n",
            "volume     float64\n",
            "cloture    float64\n",
            "dtype: object\n"
          ],
          "name": "stdout"
        },
        {
          "output_type": "execute_result",
          "data": {
            "text/html": [
              "<div>\n",
              "<style scoped>\n",
              "    .dataframe tbody tr th:only-of-type {\n",
              "        vertical-align: middle;\n",
              "    }\n",
              "\n",
              "    .dataframe tbody tr th {\n",
              "        vertical-align: top;\n",
              "    }\n",
              "\n",
              "    .dataframe thead th {\n",
              "        text-align: right;\n",
              "    }\n",
              "</style>\n",
              "<table border=\"1\" class=\"dataframe\">\n",
              "  <thead>\n",
              "    <tr style=\"text-align: right;\">\n",
              "      <th></th>\n",
              "      <th>date</th>\n",
              "      <th>volume</th>\n",
              "      <th>cloture</th>\n",
              "    </tr>\n",
              "  </thead>\n",
              "  <tbody>\n",
              "    <tr>\n",
              "      <th>0</th>\n",
              "      <td>0.002409</td>\n",
              "      <td>0.003506</td>\n",
              "      <td>0.42</td>\n",
              "    </tr>\n",
              "    <tr>\n",
              "      <th>1</th>\n",
              "      <td>0.004842</td>\n",
              "      <td>0.000872</td>\n",
              "      <td>0.42</td>\n",
              "    </tr>\n",
              "    <tr>\n",
              "      <th>2</th>\n",
              "      <td>0.007275</td>\n",
              "      <td>0.014725</td>\n",
              "      <td>0.42</td>\n",
              "    </tr>\n",
              "    <tr>\n",
              "      <th>3</th>\n",
              "      <td>0.009708</td>\n",
              "      <td>0.001661</td>\n",
              "      <td>0.42</td>\n",
              "    </tr>\n",
              "    <tr>\n",
              "      <th>4</th>\n",
              "      <td>0.012141</td>\n",
              "      <td>0.032388</td>\n",
              "      <td>0.42</td>\n",
              "    </tr>\n",
              "  </tbody>\n",
              "</table>\n",
              "</div>"
            ],
            "text/plain": [
              "       date    volume  cloture\n",
              "0  0.002409  0.003506     0.42\n",
              "1  0.004842  0.000872     0.42\n",
              "2  0.007275  0.014725     0.42\n",
              "3  0.009708  0.001661     0.42\n",
              "4  0.012141  0.032388     0.42"
            ]
          },
          "metadata": {
            "tags": []
          },
          "execution_count": 119
        }
      ]
    },
    {
      "cell_type": "code",
      "metadata": {
        "colab": {
          "base_uri": "https://localhost:8080/"
        },
        "id": "fPscDh_cPe0k",
        "outputId": "d0db3cf2-2b72-4bcc-b8e3-5b81c4453115"
      },
      "source": [
        "X = X.values      \n",
        "X"
      ],
      "execution_count": 120,
      "outputs": [
        {
          "output_type": "execute_result",
          "data": {
            "text/plain": [
              "array([[2.40864192e-03, 3.50601408e-03, 4.20000000e-01],\n",
              "       [4.84161355e-03, 8.71977685e-04, 4.20000000e-01],\n",
              "       [7.27458518e-03, 1.47248066e-02, 4.20000000e-01],\n",
              "       ...,\n",
              "       [9.85694127e-01, 3.14771875e-03, 3.60000000e-01],\n",
              "       [9.85718457e-01, 3.16657640e-03, 3.60000000e-01],\n",
              "       [9.85742786e-01, 1.24490655e-02, 3.60000000e-01]])"
            ]
          },
          "metadata": {
            "tags": []
          },
          "execution_count": 120
        }
      ]
    },
    {
      "cell_type": "code",
      "metadata": {
        "colab": {
          "base_uri": "https://localhost:8080/"
        },
        "id": "g4UI94QAt9YY",
        "outputId": "30887359-c915-4212-8219-4a1030b76f07"
      },
      "source": [
        "Y = data.cloture # we're going to predict the closing prices of the TAIR\n",
        "Y = Y.astype(float)\n",
        "Y = Y.values\n",
        "Y"
      ],
      "execution_count": 121,
      "outputs": [
        {
          "output_type": "execute_result",
          "data": {
            "text/plain": [
              "array([0.42, 0.42, 0.42, ..., 0.36, 0.36, 0.36])"
            ]
          },
          "metadata": {
            "tags": []
          },
          "execution_count": 121
        }
      ]
    },
    {
      "cell_type": "code",
      "metadata": {
        "colab": {
          "base_uri": "https://localhost:8080/"
        },
        "id": "8zrISX3ruVs1",
        "outputId": "464e3ef8-7cdc-4a44-bf74-95dc7804322b"
      },
      "source": [
        "# Split the data\n",
        "# random_state to reproduce the same result, and test size will the 33% of the train data\n",
        "# By default Shuffle is True and since we're dealing with a time series we should not shuffle the data\n",
        "X_train, X_test, Y_train, Y_test = train_test_split(X, Y, test_size=0.20, random_state=73, shuffle=False) \n",
        "\n",
        "print(\"X_train = \",X_train.shape)\n",
        "print(\"Y_train\",Y_train.shape)\n",
        "print(\"X_test = \",X_test.shape)\n",
        "print(\"Y_test\",Y_test.shape)"
      ],
      "execution_count": 122,
      "outputs": [
        {
          "output_type": "stream",
          "text": [
            "X_train =  (844, 3)\n",
            "Y_train (844,)\n",
            "X_test =  (212, 3)\n",
            "Y_test (212,)\n"
          ],
          "name": "stdout"
        }
      ]
    },
    {
      "cell_type": "markdown",
      "metadata": {
        "id": "soTOJf_DvYr1"
      },
      "source": [
        "# Linear Regression"
      ]
    },
    {
      "cell_type": "code",
      "metadata": {
        "id": "nnMYvpiNvFoP"
      },
      "source": [
        "lr = LinearRegression()\n",
        "lr_model = lr.fit(X_train, Y_train)"
      ],
      "execution_count": 123,
      "outputs": []
    },
    {
      "cell_type": "code",
      "metadata": {
        "colab": {
          "base_uri": "https://localhost:8080/"
        },
        "id": "RbaMJm1LvdFb",
        "outputId": "8725874e-f456-4272-9ce7-5f1b91afac0d"
      },
      "source": [
        "Y_pred_lr = lr_model.predict(X_test) \n",
        "# The Last ten prediction\n",
        "Y_pred_lr[-10:] "
      ],
      "execution_count": 124,
      "outputs": [
        {
          "output_type": "execute_result",
          "data": {
            "text/plain": [
              "array([0.42, 0.42, 0.42, 0.4 , 0.4 , 0.38, 0.36, 0.36, 0.36, 0.36])"
            ]
          },
          "metadata": {
            "tags": []
          },
          "execution_count": 124
        }
      ]
    },
    {
      "cell_type": "code",
      "metadata": {
        "colab": {
          "base_uri": "https://localhost:8080/"
        },
        "id": "iva7k_ZnveuZ",
        "outputId": "caee9355-aa73-44d1-e3de-c968cf5a6070"
      },
      "source": [
        "print('LR')\n",
        "print('Mean Absolute Error:',     metrics.mean_absolute_error(Y_test, Y_pred_lr))  \n",
        "print('Mean Squared Error:',      metrics.mean_squared_error(Y_test, Y_pred_lr))  \n",
        "print('Root Mean Squared Error:', np.sqrt(metrics.mean_squared_error(Y_test, Y_pred_lr)))"
      ],
      "execution_count": 125,
      "outputs": [
        {
          "output_type": "stream",
          "text": [
            "LR\n",
            "Mean Absolute Error: 9.086023338323805e-17\n",
            "Mean Squared Error: 1.0450895320863566e-32\n",
            "Root Mean Squared Error: 1.022296205649985e-16\n"
          ],
          "name": "stdout"
        }
      ]
    },
    {
      "cell_type": "markdown",
      "metadata": {
        "id": "cuLLkWliwbOP"
      },
      "source": [
        "# DTR model"
      ]
    },
    {
      "cell_type": "code",
      "metadata": {
        "id": "6CAIQQepwF8Z"
      },
      "source": [
        "dtr = DecisionTreeRegressor()  \n",
        "dtr_model = dtr.fit(X_train, Y_train)"
      ],
      "execution_count": 126,
      "outputs": []
    },
    {
      "cell_type": "code",
      "metadata": {
        "colab": {
          "base_uri": "https://localhost:8080/"
        },
        "id": "5zhPj7rSwgB7",
        "outputId": "d8b3c408-451c-46c3-c021-63dfd2368fb6"
      },
      "source": [
        "Y_pred_dtr = dtr_model.predict(X_test) \n",
        "# The Last ten prediction\n",
        "Y_pred_lr[-10:] "
      ],
      "execution_count": 127,
      "outputs": [
        {
          "output_type": "execute_result",
          "data": {
            "text/plain": [
              "array([0.42, 0.42, 0.42, 0.4 , 0.4 , 0.38, 0.36, 0.36, 0.36, 0.36])"
            ]
          },
          "metadata": {
            "tags": []
          },
          "execution_count": 127
        }
      ]
    },
    {
      "cell_type": "code",
      "metadata": {
        "colab": {
          "base_uri": "https://localhost:8080/"
        },
        "id": "vzyxXCuFwkmu",
        "outputId": "053fa7c2-5f02-49a9-be65-777f5ba0dd4a"
      },
      "source": [
        "print('DTR')\n",
        "print('Mean Absolute Error:',     metrics.mean_absolute_error(Y_test, Y_pred_dtr))  \n",
        "print('Mean Squared Error:',      metrics.mean_squared_error(Y_test, Y_pred_dtr))  \n",
        "print('Root Mean Squared Error:', np.sqrt(metrics.mean_squared_error(Y_test, Y_pred_dtr)))"
      ],
      "execution_count": 128,
      "outputs": [
        {
          "output_type": "stream",
          "text": [
            "DTR\n",
            "Mean Absolute Error: 1.6182024274017611e-16\n",
            "Mean Squared Error: 4.468157470978387e-32\n",
            "Root Mean Squared Error: 2.1138016631127878e-16\n"
          ],
          "name": "stdout"
        }
      ]
    },
    {
      "cell_type": "markdown",
      "metadata": {
        "id": "90ntWR5ww4cn"
      },
      "source": [
        "# RFR"
      ]
    },
    {
      "cell_type": "code",
      "metadata": {
        "id": "oTJwpcX0wyME"
      },
      "source": [
        "rfr = RandomForestRegressor()  \n",
        "rfr_model = rfr.fit(X_train, Y_train)"
      ],
      "execution_count": 129,
      "outputs": []
    },
    {
      "cell_type": "code",
      "metadata": {
        "colab": {
          "base_uri": "https://localhost:8080/"
        },
        "id": "biBuzzc4w8WE",
        "outputId": "df7b1231-9119-421e-af75-4b71ac26bb6e"
      },
      "source": [
        "Y_pred_rfr = dtr_model.predict(X_test) \n",
        "# The Last ten prediction\n",
        "Y_pred_lr[-10:] "
      ],
      "execution_count": 130,
      "outputs": [
        {
          "output_type": "execute_result",
          "data": {
            "text/plain": [
              "array([0.42, 0.42, 0.42, 0.4 , 0.4 , 0.38, 0.36, 0.36, 0.36, 0.36])"
            ]
          },
          "metadata": {
            "tags": []
          },
          "execution_count": 130
        }
      ]
    },
    {
      "cell_type": "code",
      "metadata": {
        "colab": {
          "base_uri": "https://localhost:8080/"
        },
        "id": "cPjrxVw7xGeB",
        "outputId": "e31e7125-aba5-49d1-8dc7-c5153b8b47ea"
      },
      "source": [
        "print('RFR')\n",
        "print('Mean Absolute Error:',     metrics.mean_absolute_error(Y_test, Y_pred_rfr))  \n",
        "print('Mean Squared Error:',      metrics.mean_squared_error(Y_test, Y_pred_rfr))  \n",
        "print('Root Mean Squared Error:', np.sqrt(metrics.mean_squared_error(Y_test, Y_pred_rfr)))"
      ],
      "execution_count": 131,
      "outputs": [
        {
          "output_type": "stream",
          "text": [
            "RFR\n",
            "Mean Absolute Error: 1.6182024274017611e-16\n",
            "Mean Squared Error: 4.468157470978387e-32\n",
            "Root Mean Squared Error: 2.1138016631127878e-16\n"
          ],
          "name": "stdout"
        }
      ]
    }
  ]
}