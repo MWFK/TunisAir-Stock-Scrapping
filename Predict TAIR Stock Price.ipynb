{
 "cells": [
  {
   "cell_type": "markdown",
   "metadata": {},
   "source": [
    "# Libs"
   ]
  },
  {
   "cell_type": "code",
   "execution_count": 100,
   "metadata": {},
   "outputs": [],
   "source": [
    "import pandas as pd\n",
    "import numpy as np\n",
    "from sklearn.model_selection import train_test_split\n",
    "from sklearn.linear_model import LinearRegression\n",
    "from sklearn.tree import DecisionTreeRegressor\n",
    "from sklearn.ensemble import RandomForestRegressor\n",
    "from sklearn import metrics"
   ]
  },
  {
   "cell_type": "markdown",
   "metadata": {},
   "source": [
    "# Data"
   ]
  },
  {
   "cell_type": "code",
   "execution_count": 79,
   "metadata": {},
   "outputs": [
    {
     "data": {
      "text/html": [
       "<div>\n",
       "<style scoped>\n",
       "    .dataframe tbody tr th:only-of-type {\n",
       "        vertical-align: middle;\n",
       "    }\n",
       "\n",
       "    .dataframe tbody tr th {\n",
       "        vertical-align: top;\n",
       "    }\n",
       "\n",
       "    .dataframe thead th {\n",
       "        text-align: right;\n",
       "    }\n",
       "</style>\n",
       "<table border=\"1\" class=\"dataframe\">\n",
       "  <thead>\n",
       "    <tr style=\"text-align: right;\">\n",
       "      <th></th>\n",
       "      <th>symbole</th>\n",
       "      <th>date</th>\n",
       "      <th>ouverture</th>\n",
       "      <th>haut</th>\n",
       "      <th>bas</th>\n",
       "      <th>cloture</th>\n",
       "      <th>volume</th>\n",
       "    </tr>\n",
       "  </thead>\n",
       "  <tbody>\n",
       "    <tr>\n",
       "      <td>0</td>\n",
       "      <td>TAIR</td>\n",
       "      <td>2020-01-02</td>\n",
       "      <td>0.63</td>\n",
       "      <td>0.63</td>\n",
       "      <td>0.62</td>\n",
       "      <td>0.63</td>\n",
       "      <td>13391</td>\n",
       "    </tr>\n",
       "    <tr>\n",
       "      <td>1</td>\n",
       "      <td>TAIR</td>\n",
       "      <td>2020-01-03</td>\n",
       "      <td>0.63</td>\n",
       "      <td>0.63</td>\n",
       "      <td>0.62</td>\n",
       "      <td>0.62</td>\n",
       "      <td>22163</td>\n",
       "    </tr>\n",
       "    <tr>\n",
       "      <td>2</td>\n",
       "      <td>TAIR</td>\n",
       "      <td>2020-01-06</td>\n",
       "      <td>0.63</td>\n",
       "      <td>0.63</td>\n",
       "      <td>0.59</td>\n",
       "      <td>0.60</td>\n",
       "      <td>124299</td>\n",
       "    </tr>\n",
       "    <tr>\n",
       "      <td>3</td>\n",
       "      <td>TAIR</td>\n",
       "      <td>2020-01-07</td>\n",
       "      <td>0.60</td>\n",
       "      <td>0.60</td>\n",
       "      <td>0.59</td>\n",
       "      <td>0.59</td>\n",
       "      <td>69788</td>\n",
       "    </tr>\n",
       "    <tr>\n",
       "      <td>4</td>\n",
       "      <td>TAIR</td>\n",
       "      <td>2020-01-08</td>\n",
       "      <td>0.59</td>\n",
       "      <td>0.59</td>\n",
       "      <td>0.58</td>\n",
       "      <td>0.59</td>\n",
       "      <td>60144</td>\n",
       "    </tr>\n",
       "  </tbody>\n",
       "</table>\n",
       "</div>"
      ],
      "text/plain": [
       "  symbole       date  ouverture  haut   bas  cloture  volume\n",
       "0    TAIR 2020-01-02       0.63  0.63  0.62     0.63   13391\n",
       "1    TAIR 2020-01-03       0.63  0.63  0.62     0.62   22163\n",
       "2    TAIR 2020-01-06       0.63  0.63  0.59     0.60  124299\n",
       "3    TAIR 2020-01-07       0.60  0.60  0.59     0.59   69788\n",
       "4    TAIR 2020-01-08       0.59  0.59  0.58     0.59   60144"
      ]
     },
     "execution_count": 79,
     "metadata": {},
     "output_type": "execute_result"
    }
   ],
   "source": [
    "data = pd.read_excel(\"C:/Users/Almighty/Python workspace/BOT Boursa/2021/Scrapped Data/TAIR/TAIR 2020.xlsx\",sheet_name=0,header=0)\n",
    "data.head()"
   ]
  },
  {
   "cell_type": "markdown",
   "metadata": {},
   "source": [
    "# Processing"
   ]
  },
  {
   "cell_type": "code",
   "execution_count": 80,
   "metadata": {},
   "outputs": [],
   "source": [
    "# convert the pandas dataframe feature data type from TimeStamp to Date\n",
    "data['date'] = data['date'].apply(lambda x:x.toordinal())"
   ]
  },
  {
   "cell_type": "code",
   "execution_count": 81,
   "metadata": {},
   "outputs": [],
   "source": [
    "x = data.iloc[:,1:6]  # we do not start with the firt feature, because it has the name of the stock           \n",
    "y = data.cloture # we're going to predict the closing prices of the TAIR"
   ]
  },
  {
   "cell_type": "code",
   "execution_count": 82,
   "metadata": {},
   "outputs": [
    {
     "data": {
      "text/html": [
       "<div>\n",
       "<style scoped>\n",
       "    .dataframe tbody tr th:only-of-type {\n",
       "        vertical-align: middle;\n",
       "    }\n",
       "\n",
       "    .dataframe tbody tr th {\n",
       "        vertical-align: top;\n",
       "    }\n",
       "\n",
       "    .dataframe thead th {\n",
       "        text-align: right;\n",
       "    }\n",
       "</style>\n",
       "<table border=\"1\" class=\"dataframe\">\n",
       "  <thead>\n",
       "    <tr style=\"text-align: right;\">\n",
       "      <th></th>\n",
       "      <th>date</th>\n",
       "      <th>ouverture</th>\n",
       "      <th>haut</th>\n",
       "      <th>bas</th>\n",
       "      <th>cloture</th>\n",
       "    </tr>\n",
       "  </thead>\n",
       "  <tbody>\n",
       "    <tr>\n",
       "      <td>0</td>\n",
       "      <td>737426</td>\n",
       "      <td>0.63</td>\n",
       "      <td>0.63</td>\n",
       "      <td>0.62</td>\n",
       "      <td>0.63</td>\n",
       "    </tr>\n",
       "    <tr>\n",
       "      <td>1</td>\n",
       "      <td>737427</td>\n",
       "      <td>0.63</td>\n",
       "      <td>0.63</td>\n",
       "      <td>0.62</td>\n",
       "      <td>0.62</td>\n",
       "    </tr>\n",
       "    <tr>\n",
       "      <td>2</td>\n",
       "      <td>737430</td>\n",
       "      <td>0.63</td>\n",
       "      <td>0.63</td>\n",
       "      <td>0.59</td>\n",
       "      <td>0.60</td>\n",
       "    </tr>\n",
       "    <tr>\n",
       "      <td>3</td>\n",
       "      <td>737431</td>\n",
       "      <td>0.60</td>\n",
       "      <td>0.60</td>\n",
       "      <td>0.59</td>\n",
       "      <td>0.59</td>\n",
       "    </tr>\n",
       "    <tr>\n",
       "      <td>4</td>\n",
       "      <td>737432</td>\n",
       "      <td>0.59</td>\n",
       "      <td>0.59</td>\n",
       "      <td>0.58</td>\n",
       "      <td>0.59</td>\n",
       "    </tr>\n",
       "  </tbody>\n",
       "</table>\n",
       "</div>"
      ],
      "text/plain": [
       "     date  ouverture  haut   bas  cloture\n",
       "0  737426       0.63  0.63  0.62     0.63\n",
       "1  737427       0.63  0.63  0.62     0.62\n",
       "2  737430       0.63  0.63  0.59     0.60\n",
       "3  737431       0.60  0.60  0.59     0.59\n",
       "4  737432       0.59  0.59  0.58     0.59"
      ]
     },
     "execution_count": 82,
     "metadata": {},
     "output_type": "execute_result"
    }
   ],
   "source": [
    "x.head()"
   ]
  },
  {
   "cell_type": "code",
   "execution_count": 83,
   "metadata": {},
   "outputs": [
    {
     "data": {
      "text/plain": [
       "array([[7.37426e+05, 6.30000e-01, 6.30000e-01, 6.20000e-01, 6.30000e-01],\n",
       "       [7.37427e+05, 6.30000e-01, 6.30000e-01, 6.20000e-01, 6.20000e-01],\n",
       "       [7.37430e+05, 6.30000e-01, 6.30000e-01, 5.90000e-01, 6.00000e-01],\n",
       "       ...,\n",
       "       [7.37788e+05, 5.80000e-01, 5.80000e-01, 5.70000e-01, 5.80000e-01],\n",
       "       [7.37789e+05, 5.90000e-01, 5.90000e-01, 5.80000e-01, 5.80000e-01],\n",
       "       [7.37790e+05, 5.80000e-01, 5.90000e-01, 5.70000e-01, 5.90000e-01]])"
      ]
     },
     "execution_count": 83,
     "metadata": {},
     "output_type": "execute_result"
    }
   ],
   "source": [
    "# convert ti numpy\n",
    "x = x.values\n",
    "x"
   ]
  },
  {
   "cell_type": "code",
   "execution_count": 84,
   "metadata": {},
   "outputs": [
    {
     "data": {
      "text/plain": [
       "0    0.63\n",
       "1    0.62\n",
       "2    0.60\n",
       "3    0.59\n",
       "4    0.59\n",
       "Name: cloture, dtype: float64"
      ]
     },
     "execution_count": 84,
     "metadata": {},
     "output_type": "execute_result"
    }
   ],
   "source": [
    "y.head()"
   ]
  },
  {
   "cell_type": "code",
   "execution_count": 85,
   "metadata": {},
   "outputs": [
    {
     "data": {
      "text/plain": [
       "array([0.63, 0.62, 0.6 , 0.59, 0.59, 0.59, 0.57, 0.57, 0.57, 0.57, 0.57,\n",
       "       0.57, 0.59, 0.61, 0.62, 0.62, 0.6 , 0.61, 0.61, 0.61, 0.6 , 0.58,\n",
       "       0.6 , 0.6 , 0.63, 0.64, 0.63, 0.65, 0.68, 0.72, 0.71, 0.7 , 0.71,\n",
       "       0.72, 0.72, 0.7 , 0.69, 0.7 , 0.7 , 0.71, 0.71, 0.71, 0.7 , 0.7 ,\n",
       "       0.68, 0.67, 0.65, 0.63, 0.63, 0.64, 0.62, 0.61, 0.6 , 0.59, 0.59,\n",
       "       0.59, 0.6 , 0.59, 0.58, 0.58, 0.58, 0.59, 0.58, 0.57, 0.56, 0.55,\n",
       "       0.54, 0.55, 0.55, 0.54, 0.53, 0.52, 0.53, 0.54, 0.55, 0.55, 0.55,\n",
       "       0.56, 0.55, 0.54, 0.54, 0.54, 0.54, 0.54, 0.53, 0.54, 0.54, 0.54,\n",
       "       0.54, 0.54, 0.52, 0.52, 0.53, 0.54, 0.55, 0.56, 0.57, 0.59, 0.6 ,\n",
       "       0.61, 0.62, 0.61, 0.6 , 0.6 , 0.61, 0.6 , 0.6 , 0.59, 0.6 , 0.58,\n",
       "       0.57, 0.58, 0.59, 0.58, 0.59, 0.57, 0.58, 0.57, 0.57, 0.58, 0.59,\n",
       "       0.6 , 0.59, 0.6 , 0.62, 0.64, 0.64, 0.64, 0.64, 0.61, 0.61, 0.63,\n",
       "       0.63, 0.63, 0.61, 0.61, 0.61, 0.6 , 0.62, 0.61, 0.6 , 0.6 , 0.6 ,\n",
       "       0.59, 0.58, 0.59, 0.58, 0.57, 0.59, 0.58, 0.57, 0.57, 0.57, 0.57,\n",
       "       0.58, 0.57, 0.56, 0.56, 0.57, 0.58, 0.58, 0.58, 0.57, 0.57, 0.57,\n",
       "       0.6 , 0.61, 0.64, 0.63, 0.63, 0.62, 0.62, 0.62, 0.62, 0.63, 0.63,\n",
       "       0.64, 0.63, 0.62, 0.61, 0.61, 0.59, 0.59, 0.6 , 0.61, 0.6 , 0.59,\n",
       "       0.6 , 0.58, 0.59, 0.6 , 0.59, 0.59, 0.59, 0.6 , 0.6 , 0.6 , 0.61,\n",
       "       0.61, 0.6 , 0.59, 0.58, 0.57, 0.58, 0.59, 0.59, 0.59, 0.59, 0.61,\n",
       "       0.63, 0.61, 0.63, 0.63, 0.61, 0.61, 0.61, 0.6 , 0.6 , 0.6 , 0.6 ,\n",
       "       0.59, 0.62, 0.63, 0.61, 0.58, 0.61, 0.63, 0.62, 0.61, 0.61, 0.61,\n",
       "       0.61, 0.6 , 0.6 , 0.59, 0.57, 0.58, 0.58, 0.57, 0.56, 0.58, 0.58,\n",
       "       0.58, 0.58, 0.59])"
      ]
     },
     "execution_count": 85,
     "metadata": {},
     "output_type": "execute_result"
    }
   ],
   "source": [
    "y.values"
   ]
  },
  {
   "cell_type": "code",
   "execution_count": 86,
   "metadata": {},
   "outputs": [],
   "source": [
    "# Split the data\n",
    "X_train, X_test, y_train, y_test = train_test_split(x, y, test_size=0.33, random_state=73) # random_state to reproduce the same result, and test size will the 33% of the train data"
   ]
  },
  {
   "cell_type": "markdown",
   "metadata": {},
   "source": [
    "X_train"
   ]
  },
  {
   "cell_type": "code",
   "execution_count": 88,
   "metadata": {},
   "outputs": [
    {
     "name": "stdout",
     "output_type": "stream",
     "text": [
      "X_train =  (164, 5)\n",
      "y_train (164,)\n",
      "X_test =  (81, 5)\n",
      "y_test (81,)\n"
     ]
    }
   ],
   "source": [
    "print(\"X_train = \",X_train.shape)\n",
    "print(\"y_train\",y_train.shape)\n",
    "print(\"X_test = \",X_test.shape)\n",
    "print(\"y_test\",y_test.shape)"
   ]
  },
  {
   "cell_type": "markdown",
   "metadata": {},
   "source": [
    "# Linear Regression"
   ]
  },
  {
   "cell_type": "code",
   "execution_count": 102,
   "metadata": {},
   "outputs": [],
   "source": [
    "lr = LinearRegression()\n",
    "lr_model = lr.fit(X_train, y_train)"
   ]
  },
  {
   "cell_type": "code",
   "execution_count": 103,
   "metadata": {},
   "outputs": [
    {
     "data": {
      "text/plain": [
       "array([0.59, 0.71, 0.58, 0.63, 0.63, 0.59, 0.61, 0.56, 0.64, 0.6 , 0.59,\n",
       "       0.6 , 0.61, 0.58, 0.62, 0.6 , 0.57, 0.62, 0.58, 0.61, 0.57, 0.58,\n",
       "       0.56, 0.54, 0.55, 0.57, 0.58, 0.58, 0.55, 0.6 , 0.64, 0.59, 0.63,\n",
       "       0.52, 0.63, 0.6 , 0.6 , 0.6 , 0.58, 0.62, 0.63, 0.62, 0.62, 0.57,\n",
       "       0.64, 0.62, 0.6 , 0.56, 0.58, 0.72, 0.6 , 0.59, 0.64, 0.61, 0.57,\n",
       "       0.62, 0.58, 0.54, 0.62, 0.64, 0.59, 0.56, 0.7 , 0.6 , 0.61, 0.7 ,\n",
       "       0.58, 0.57, 0.61, 0.7 , 0.54, 0.59, 0.57, 0.6 , 0.67, 0.6 , 0.61,\n",
       "       0.56, 0.63, 0.57, 0.61])"
      ]
     },
     "execution_count": 103,
     "metadata": {},
     "output_type": "execute_result"
    }
   ],
   "source": [
    "y_pred_lr = lr_model.predict(X_test) \n",
    "y_pred_lr"
   ]
  },
  {
   "cell_type": "code",
   "execution_count": 104,
   "metadata": {},
   "outputs": [
    {
     "name": "stdout",
     "output_type": "stream",
     "text": [
      "LR\n",
      "Mean Absolute Error: 1.585837085791736e-15\n",
      "Mean Squared Error: 3.364680454348339e-30\n",
      "Root Mean Squared Error: 1.834306532275437e-15\n"
     ]
    }
   ],
   "source": [
    "print('LR')\n",
    "print('Mean Absolute Error:', metrics.mean_absolute_error(y_test, y_pred_lr))  \n",
    "print('Mean Squared Error:', metrics.mean_squared_error(y_test, y_pred_lr))  \n",
    "print('Root Mean Squared Error:', np.sqrt(metrics.mean_squared_error(y_test, y_pred_lr))) "
   ]
  },
  {
   "cell_type": "markdown",
   "metadata": {},
   "source": [
    "# DTR model"
   ]
  },
  {
   "cell_type": "code",
   "execution_count": 89,
   "metadata": {},
   "outputs": [],
   "source": [
    "dtr = DecisionTreeRegressor()  \n",
    "dtr_model = dtr.fit(X_train, y_train)"
   ]
  },
  {
   "cell_type": "code",
   "execution_count": 91,
   "metadata": {},
   "outputs": [
    {
     "data": {
      "text/plain": [
       "array([0.59, 0.71, 0.58, 0.63, 0.63, 0.59, 0.61, 0.57, 0.64, 0.6 , 0.59,\n",
       "       0.6 , 0.61, 0.58, 0.62, 0.6 , 0.57, 0.62, 0.58, 0.61, 0.57, 0.58,\n",
       "       0.57, 0.54, 0.55, 0.57, 0.58, 0.58, 0.55, 0.6 , 0.64, 0.59, 0.63,\n",
       "       0.52, 0.63, 0.6 , 0.6 , 0.6 , 0.58, 0.62, 0.63, 0.62, 0.62, 0.57,\n",
       "       0.64, 0.62, 0.6 , 0.57, 0.58, 0.72, 0.6 , 0.59, 0.64, 0.61, 0.57,\n",
       "       0.62, 0.58, 0.54, 0.62, 0.64, 0.59, 0.57, 0.7 , 0.6 , 0.61, 0.7 ,\n",
       "       0.58, 0.57, 0.61, 0.7 , 0.54, 0.59, 0.57, 0.6 , 0.68, 0.6 , 0.61,\n",
       "       0.57, 0.63, 0.57, 0.61])"
      ]
     },
     "execution_count": 91,
     "metadata": {},
     "output_type": "execute_result"
    }
   ],
   "source": [
    "y_pred_dtr = dtr_model.predict(X_test) \n",
    "y_pred_dtr"
   ]
  },
  {
   "cell_type": "code",
   "execution_count": 93,
   "metadata": {},
   "outputs": [
    {
     "name": "stdout",
     "output_type": "stream",
     "text": [
      "DTR\n",
      "Mean Absolute Error: 0.000740740740740814\n",
      "Mean Squared Error: 7.40740740740742e-06\n",
      "Root Mean Squared Error: 0.002721655269759089\n"
     ]
    }
   ],
   "source": [
    "print('DTR')\n",
    "print('Mean Absolute Error:', metrics.mean_absolute_error(y_test, y_pred_dtr))  \n",
    "print('Mean Squared Error:', metrics.mean_squared_error(y_test, y_pred_dtr))  \n",
    "print('Root Mean Squared Error:', np.sqrt(metrics.mean_squared_error(y_test, y_pred_dtr))) "
   ]
  },
  {
   "cell_type": "markdown",
   "metadata": {},
   "source": [
    "# RFR"
   ]
  },
  {
   "cell_type": "code",
   "execution_count": 96,
   "metadata": {},
   "outputs": [
    {
     "name": "stderr",
     "output_type": "stream",
     "text": [
      "C:\\Users\\Almighty\\Anaconda3\\lib\\site-packages\\sklearn\\ensemble\\forest.py:245: FutureWarning: The default value of n_estimators will change from 10 in version 0.20 to 100 in 0.22.\n",
      "  \"10 in version 0.20 to 100 in 0.22.\", FutureWarning)\n"
     ]
    }
   ],
   "source": [
    "rfr = RandomForestRegressor()  \n",
    "rfr_model = rfr.fit(X_train, y_train)  "
   ]
  },
  {
   "cell_type": "code",
   "execution_count": 98,
   "metadata": {},
   "outputs": [
    {
     "data": {
      "text/plain": [
       "array([0.59, 0.71, 0.58, 0.63, 0.63, 0.59, 0.61, 0.57, 0.64, 0.6 , 0.59,\n",
       "       0.6 , 0.61, 0.58, 0.62, 0.6 , 0.57, 0.62, 0.58, 0.61, 0.57, 0.58,\n",
       "       0.57, 0.54, 0.55, 0.57, 0.58, 0.58, 0.55, 0.6 , 0.64, 0.59, 0.63,\n",
       "       0.52, 0.63, 0.6 , 0.6 , 0.6 , 0.58, 0.62, 0.63, 0.62, 0.62, 0.57,\n",
       "       0.64, 0.62, 0.6 , 0.57, 0.58, 0.72, 0.6 , 0.59, 0.64, 0.61, 0.57,\n",
       "       0.62, 0.58, 0.54, 0.62, 0.64, 0.59, 0.57, 0.7 , 0.6 , 0.61, 0.7 ,\n",
       "       0.58, 0.57, 0.61, 0.7 , 0.54, 0.59, 0.57, 0.6 , 0.68, 0.6 , 0.61,\n",
       "       0.57, 0.63, 0.57, 0.61])"
      ]
     },
     "execution_count": 98,
     "metadata": {},
     "output_type": "execute_result"
    }
   ],
   "source": [
    "y_pred_rfr = dtr_model.predict(X_test) \n",
    "y_pred_rfr"
   ]
  },
  {
   "cell_type": "code",
   "execution_count": 99,
   "metadata": {},
   "outputs": [
    {
     "name": "stdout",
     "output_type": "stream",
     "text": [
      "RFR\n",
      "Mean Absolute Error: 0.000740740740740814\n",
      "Mean Squared Error: 7.40740740740742e-06\n",
      "Root Mean Squared Error: 0.002721655269759089\n"
     ]
    }
   ],
   "source": [
    "print('RFR')\n",
    "print('Mean Absolute Error:', metrics.mean_absolute_error(y_test, y_pred_rfr))  \n",
    "print('Mean Squared Error:', metrics.mean_squared_error(y_test, y_pred_rfr))  \n",
    "print('Root Mean Squared Error:', np.sqrt(metrics.mean_squared_error(y_test, y_pred_rfr))) "
   ]
  }
 ],
 "metadata": {
  "kernelspec": {
   "display_name": "Python 3",
   "language": "python",
   "name": "python3"
  },
  "language_info": {
   "codemirror_mode": {
    "name": "ipython",
    "version": 3
   },
   "file_extension": ".py",
   "mimetype": "text/x-python",
   "name": "python",
   "nbconvert_exporter": "python",
   "pygments_lexer": "ipython3",
   "version": "3.7.4"
  }
 },
 "nbformat": 4,
 "nbformat_minor": 4
}
