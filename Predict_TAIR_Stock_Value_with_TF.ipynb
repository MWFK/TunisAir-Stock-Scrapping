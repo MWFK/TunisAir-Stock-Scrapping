{
  "nbformat": 4,
  "nbformat_minor": 0,
  "metadata": {
    "colab": {
      "name": "Predict TAIR Stock Value with TF.ipynb",
      "provenance": [],
      "authorship_tag": "ABX9TyPXXosCSAzFoL+E+nLdlrX4",
      "include_colab_link": true
    },
    "kernelspec": {
      "name": "python3",
      "display_name": "Python 3"
    },
    "language_info": {
      "name": "python"
    }
  },
  "cells": [
    {
      "cell_type": "markdown",
      "metadata": {
        "id": "view-in-github",
        "colab_type": "text"
      },
      "source": [
        "<a href=\"https://colab.research.google.com/github/MWFK/TunisAir-Stock-Scrapping-Predicting/blob/main/Predict_TAIR_Stock_Value_with_TF.ipynb\" target=\"_parent\"><img src=\"https://colab.research.google.com/assets/colab-badge.svg\" alt=\"Open In Colab\"/></a>"
      ]
    },
    {
      "cell_type": "markdown",
      "metadata": {
        "id": "Lazi3KcmqTkk"
      },
      "source": [
        "# Libs"
      ]
    },
    {
      "cell_type": "code",
      "metadata": {
        "id": "2SC_mGuTnejo"
      },
      "source": [
        "import pandas as pd\n",
        "import numpy as np\n",
        "\n",
        "from sklearn.model_selection import train_test_split\n",
        "import tensorflow as tf"
      ],
      "execution_count": 22,
      "outputs": []
    },
    {
      "cell_type": "markdown",
      "metadata": {
        "id": "mSO9kqYjqXKw"
      },
      "source": [
        "# Data"
      ]
    },
    {
      "cell_type": "code",
      "metadata": {
        "colab": {
          "base_uri": "https://localhost:8080/",
          "height": 423
        },
        "id": "XxI1ojjDnqnt",
        "outputId": "5ae16010-3e96-461a-f6c2-7d57ebd5d74a"
      },
      "source": [
        "url = 'https://raw.githubusercontent.com/MWFK/TunisAir-Stock-Scrapping-Predicting/main/TAIR_21_20_19_18_17.csv'\n",
        "column_names = ['symbole', 'date', 'ouverture', 'haut', 'bas', 'cloture', 'volume']\n",
        "\n",
        "data = pd.read_csv(url, names=column_names,sep=';', header=0, decimal=',')\n",
        "data"
      ],
      "execution_count": 40,
      "outputs": [
        {
          "output_type": "execute_result",
          "data": {
            "text/html": [
              "<div>\n",
              "<style scoped>\n",
              "    .dataframe tbody tr th:only-of-type {\n",
              "        vertical-align: middle;\n",
              "    }\n",
              "\n",
              "    .dataframe tbody tr th {\n",
              "        vertical-align: top;\n",
              "    }\n",
              "\n",
              "    .dataframe thead th {\n",
              "        text-align: right;\n",
              "    }\n",
              "</style>\n",
              "<table border=\"1\" class=\"dataframe\">\n",
              "  <thead>\n",
              "    <tr style=\"text-align: right;\">\n",
              "      <th></th>\n",
              "      <th>symbole</th>\n",
              "      <th>date</th>\n",
              "      <th>ouverture</th>\n",
              "      <th>haut</th>\n",
              "      <th>bas</th>\n",
              "      <th>cloture</th>\n",
              "      <th>volume</th>\n",
              "    </tr>\n",
              "  </thead>\n",
              "  <tbody>\n",
              "    <tr>\n",
              "      <th>0</th>\n",
              "      <td>TAIR</td>\n",
              "      <td>02/01/2017</td>\n",
              "      <td>0.60</td>\n",
              "      <td>0.60</td>\n",
              "      <td>0.59</td>\n",
              "      <td>0.60</td>\n",
              "      <td>4651</td>\n",
              "    </tr>\n",
              "    <tr>\n",
              "      <th>1</th>\n",
              "      <td>TAIR</td>\n",
              "      <td>03/01/2017</td>\n",
              "      <td>0.60</td>\n",
              "      <td>0.60</td>\n",
              "      <td>0.59</td>\n",
              "      <td>0.60</td>\n",
              "      <td>1159</td>\n",
              "    </tr>\n",
              "    <tr>\n",
              "      <th>2</th>\n",
              "      <td>TAIR</td>\n",
              "      <td>04/01/2017</td>\n",
              "      <td>0.60</td>\n",
              "      <td>0.60</td>\n",
              "      <td>0.59</td>\n",
              "      <td>0.60</td>\n",
              "      <td>19524</td>\n",
              "    </tr>\n",
              "    <tr>\n",
              "      <th>3</th>\n",
              "      <td>TAIR</td>\n",
              "      <td>05/01/2017</td>\n",
              "      <td>0.60</td>\n",
              "      <td>0.60</td>\n",
              "      <td>0.59</td>\n",
              "      <td>0.60</td>\n",
              "      <td>2205</td>\n",
              "    </tr>\n",
              "    <tr>\n",
              "      <th>4</th>\n",
              "      <td>TAIR</td>\n",
              "      <td>06/01/2017</td>\n",
              "      <td>0.59</td>\n",
              "      <td>0.60</td>\n",
              "      <td>0.59</td>\n",
              "      <td>0.60</td>\n",
              "      <td>42941</td>\n",
              "    </tr>\n",
              "    <tr>\n",
              "      <th>...</th>\n",
              "      <td>...</td>\n",
              "      <td>...</td>\n",
              "      <td>...</td>\n",
              "      <td>...</td>\n",
              "      <td>...</td>\n",
              "      <td>...</td>\n",
              "      <td>...</td>\n",
              "    </tr>\n",
              "    <tr>\n",
              "      <th>1051</th>\n",
              "      <td>TAIR</td>\n",
              "      <td>14/06/2021</td>\n",
              "      <td>0.59</td>\n",
              "      <td>0.59</td>\n",
              "      <td>0.58</td>\n",
              "      <td>0.58</td>\n",
              "      <td>15785</td>\n",
              "    </tr>\n",
              "    <tr>\n",
              "      <th>1052</th>\n",
              "      <td>TAIR</td>\n",
              "      <td>15/06/2021</td>\n",
              "      <td>0.58</td>\n",
              "      <td>0.58</td>\n",
              "      <td>0.57</td>\n",
              "      <td>0.57</td>\n",
              "      <td>28264</td>\n",
              "    </tr>\n",
              "    <tr>\n",
              "      <th>1053</th>\n",
              "      <td>TAIR</td>\n",
              "      <td>16/06/2021</td>\n",
              "      <td>0.58</td>\n",
              "      <td>0.58</td>\n",
              "      <td>0.57</td>\n",
              "      <td>0.57</td>\n",
              "      <td>4176</td>\n",
              "    </tr>\n",
              "    <tr>\n",
              "      <th>1054</th>\n",
              "      <td>TAIR</td>\n",
              "      <td>17/06/2021</td>\n",
              "      <td>0.57</td>\n",
              "      <td>0.57</td>\n",
              "      <td>0.56</td>\n",
              "      <td>0.57</td>\n",
              "      <td>4201</td>\n",
              "    </tr>\n",
              "    <tr>\n",
              "      <th>1055</th>\n",
              "      <td>TAIR</td>\n",
              "      <td>18/06/2021</td>\n",
              "      <td>0.57</td>\n",
              "      <td>0.57</td>\n",
              "      <td>0.56</td>\n",
              "      <td>0.57</td>\n",
              "      <td>16507</td>\n",
              "    </tr>\n",
              "  </tbody>\n",
              "</table>\n",
              "<p>1056 rows × 7 columns</p>\n",
              "</div>"
            ],
            "text/plain": [
              "     symbole        date  ouverture  haut   bas  cloture  volume\n",
              "0       TAIR  02/01/2017       0.60  0.60  0.59     0.60    4651\n",
              "1       TAIR  03/01/2017       0.60  0.60  0.59     0.60    1159\n",
              "2       TAIR  04/01/2017       0.60  0.60  0.59     0.60   19524\n",
              "3       TAIR  05/01/2017       0.60  0.60  0.59     0.60    2205\n",
              "4       TAIR  06/01/2017       0.59  0.60  0.59     0.60   42941\n",
              "...      ...         ...        ...   ...   ...      ...     ...\n",
              "1051    TAIR  14/06/2021       0.59  0.59  0.58     0.58   15785\n",
              "1052    TAIR  15/06/2021       0.58  0.58  0.57     0.57   28264\n",
              "1053    TAIR  16/06/2021       0.58  0.58  0.57     0.57    4176\n",
              "1054    TAIR  17/06/2021       0.57  0.57  0.56     0.57    4201\n",
              "1055    TAIR  18/06/2021       0.57  0.57  0.56     0.57   16507\n",
              "\n",
              "[1056 rows x 7 columns]"
            ]
          },
          "metadata": {
            "tags": []
          },
          "execution_count": 40
        }
      ]
    },
    {
      "cell_type": "markdown",
      "metadata": {
        "id": "ACqLhyPkrjym"
      },
      "source": [
        "# Processing"
      ]
    },
    {
      "cell_type": "code",
      "metadata": {
        "colab": {
          "base_uri": "https://localhost:8080/",
          "height": 423
        },
        "id": "nKEkw7zjs0M6",
        "outputId": "878d9ff0-0bab-4791-f34f-7e3b62b0d4cf"
      },
      "source": [
        "column_names = ['symbole', 'date', 'ouverture', 'haut', 'bas', 'volume', 'cloture']\n",
        "data = data[column_names]\n",
        "data"
      ],
      "execution_count": 41,
      "outputs": [
        {
          "output_type": "execute_result",
          "data": {
            "text/html": [
              "<div>\n",
              "<style scoped>\n",
              "    .dataframe tbody tr th:only-of-type {\n",
              "        vertical-align: middle;\n",
              "    }\n",
              "\n",
              "    .dataframe tbody tr th {\n",
              "        vertical-align: top;\n",
              "    }\n",
              "\n",
              "    .dataframe thead th {\n",
              "        text-align: right;\n",
              "    }\n",
              "</style>\n",
              "<table border=\"1\" class=\"dataframe\">\n",
              "  <thead>\n",
              "    <tr style=\"text-align: right;\">\n",
              "      <th></th>\n",
              "      <th>symbole</th>\n",
              "      <th>date</th>\n",
              "      <th>ouverture</th>\n",
              "      <th>haut</th>\n",
              "      <th>bas</th>\n",
              "      <th>volume</th>\n",
              "      <th>cloture</th>\n",
              "    </tr>\n",
              "  </thead>\n",
              "  <tbody>\n",
              "    <tr>\n",
              "      <th>0</th>\n",
              "      <td>TAIR</td>\n",
              "      <td>02/01/2017</td>\n",
              "      <td>0.60</td>\n",
              "      <td>0.60</td>\n",
              "      <td>0.59</td>\n",
              "      <td>4651</td>\n",
              "      <td>0.60</td>\n",
              "    </tr>\n",
              "    <tr>\n",
              "      <th>1</th>\n",
              "      <td>TAIR</td>\n",
              "      <td>03/01/2017</td>\n",
              "      <td>0.60</td>\n",
              "      <td>0.60</td>\n",
              "      <td>0.59</td>\n",
              "      <td>1159</td>\n",
              "      <td>0.60</td>\n",
              "    </tr>\n",
              "    <tr>\n",
              "      <th>2</th>\n",
              "      <td>TAIR</td>\n",
              "      <td>04/01/2017</td>\n",
              "      <td>0.60</td>\n",
              "      <td>0.60</td>\n",
              "      <td>0.59</td>\n",
              "      <td>19524</td>\n",
              "      <td>0.60</td>\n",
              "    </tr>\n",
              "    <tr>\n",
              "      <th>3</th>\n",
              "      <td>TAIR</td>\n",
              "      <td>05/01/2017</td>\n",
              "      <td>0.60</td>\n",
              "      <td>0.60</td>\n",
              "      <td>0.59</td>\n",
              "      <td>2205</td>\n",
              "      <td>0.60</td>\n",
              "    </tr>\n",
              "    <tr>\n",
              "      <th>4</th>\n",
              "      <td>TAIR</td>\n",
              "      <td>06/01/2017</td>\n",
              "      <td>0.59</td>\n",
              "      <td>0.60</td>\n",
              "      <td>0.59</td>\n",
              "      <td>42941</td>\n",
              "      <td>0.60</td>\n",
              "    </tr>\n",
              "    <tr>\n",
              "      <th>...</th>\n",
              "      <td>...</td>\n",
              "      <td>...</td>\n",
              "      <td>...</td>\n",
              "      <td>...</td>\n",
              "      <td>...</td>\n",
              "      <td>...</td>\n",
              "      <td>...</td>\n",
              "    </tr>\n",
              "    <tr>\n",
              "      <th>1051</th>\n",
              "      <td>TAIR</td>\n",
              "      <td>14/06/2021</td>\n",
              "      <td>0.59</td>\n",
              "      <td>0.59</td>\n",
              "      <td>0.58</td>\n",
              "      <td>15785</td>\n",
              "      <td>0.58</td>\n",
              "    </tr>\n",
              "    <tr>\n",
              "      <th>1052</th>\n",
              "      <td>TAIR</td>\n",
              "      <td>15/06/2021</td>\n",
              "      <td>0.58</td>\n",
              "      <td>0.58</td>\n",
              "      <td>0.57</td>\n",
              "      <td>28264</td>\n",
              "      <td>0.57</td>\n",
              "    </tr>\n",
              "    <tr>\n",
              "      <th>1053</th>\n",
              "      <td>TAIR</td>\n",
              "      <td>16/06/2021</td>\n",
              "      <td>0.58</td>\n",
              "      <td>0.58</td>\n",
              "      <td>0.57</td>\n",
              "      <td>4176</td>\n",
              "      <td>0.57</td>\n",
              "    </tr>\n",
              "    <tr>\n",
              "      <th>1054</th>\n",
              "      <td>TAIR</td>\n",
              "      <td>17/06/2021</td>\n",
              "      <td>0.57</td>\n",
              "      <td>0.57</td>\n",
              "      <td>0.56</td>\n",
              "      <td>4201</td>\n",
              "      <td>0.57</td>\n",
              "    </tr>\n",
              "    <tr>\n",
              "      <th>1055</th>\n",
              "      <td>TAIR</td>\n",
              "      <td>18/06/2021</td>\n",
              "      <td>0.57</td>\n",
              "      <td>0.57</td>\n",
              "      <td>0.56</td>\n",
              "      <td>16507</td>\n",
              "      <td>0.57</td>\n",
              "    </tr>\n",
              "  </tbody>\n",
              "</table>\n",
              "<p>1056 rows × 7 columns</p>\n",
              "</div>"
            ],
            "text/plain": [
              "     symbole        date  ouverture  haut   bas  volume  cloture\n",
              "0       TAIR  02/01/2017       0.60  0.60  0.59    4651     0.60\n",
              "1       TAIR  03/01/2017       0.60  0.60  0.59    1159     0.60\n",
              "2       TAIR  04/01/2017       0.60  0.60  0.59   19524     0.60\n",
              "3       TAIR  05/01/2017       0.60  0.60  0.59    2205     0.60\n",
              "4       TAIR  06/01/2017       0.59  0.60  0.59   42941     0.60\n",
              "...      ...         ...        ...   ...   ...     ...      ...\n",
              "1051    TAIR  14/06/2021       0.59  0.59  0.58   15785     0.58\n",
              "1052    TAIR  15/06/2021       0.58  0.58  0.57   28264     0.57\n",
              "1053    TAIR  16/06/2021       0.58  0.58  0.57    4176     0.57\n",
              "1054    TAIR  17/06/2021       0.57  0.57  0.56    4201     0.57\n",
              "1055    TAIR  18/06/2021       0.57  0.57  0.56   16507     0.57\n",
              "\n",
              "[1056 rows x 7 columns]"
            ]
          },
          "metadata": {
            "tags": []
          },
          "execution_count": 41
        }
      ]
    },
    {
      "cell_type": "code",
      "metadata": {
        "id": "uU6g0KGZoe84"
      },
      "source": [
        "# convert the pandas dataframe feature data type from TimeStamp to Date\n",
        "# data['date'] = data['date'].apply(lambda x:x.toordinal())"
      ],
      "execution_count": 6,
      "outputs": []
    },
    {
      "cell_type": "code",
      "metadata": {
        "colab": {
          "base_uri": "https://localhost:8080/"
        },
        "id": "8p4wbq4IrtrO",
        "outputId": "a7f4c0d1-3986-4c98-a0d9-828c1c6bfd18"
      },
      "source": [
        "x = data.iloc[:,2:6]  # we do not start with the firt feature, because it has the name of the stock   \n",
        "print(x.dtypes)  \n",
        "x = x.astype(float)\n",
        "print(x.dtypes)  \n",
        "x = x.values      \n",
        "x"
      ],
      "execution_count": 42,
      "outputs": [
        {
          "output_type": "stream",
          "text": [
            "ouverture    float64\n",
            "haut         float64\n",
            "bas          float64\n",
            "volume         int64\n",
            "dtype: object\n",
            "ouverture    float64\n",
            "haut         float64\n",
            "bas          float64\n",
            "volume       float64\n",
            "dtype: object\n"
          ],
          "name": "stdout"
        },
        {
          "output_type": "execute_result",
          "data": {
            "text/plain": [
              "array([[6.0000e-01, 6.0000e-01, 5.9000e-01, 4.6510e+03],\n",
              "       [6.0000e-01, 6.0000e-01, 5.9000e-01, 1.1590e+03],\n",
              "       [6.0000e-01, 6.0000e-01, 5.9000e-01, 1.9524e+04],\n",
              "       ...,\n",
              "       [5.8000e-01, 5.8000e-01, 5.7000e-01, 4.1760e+03],\n",
              "       [5.7000e-01, 5.7000e-01, 5.6000e-01, 4.2010e+03],\n",
              "       [5.7000e-01, 5.7000e-01, 5.6000e-01, 1.6507e+04]])"
            ]
          },
          "metadata": {
            "tags": []
          },
          "execution_count": 42
        }
      ]
    },
    {
      "cell_type": "code",
      "metadata": {
        "colab": {
          "base_uri": "https://localhost:8080/"
        },
        "id": "fxBGvy4oscSh",
        "outputId": "a8f06df9-86b1-4c5e-9dc0-f430a9216d6f"
      },
      "source": [
        "y = data.cloture # we're going to predict the closing prices of the TAIR\n",
        "y = y.values\n",
        "y"
      ],
      "execution_count": 43,
      "outputs": [
        {
          "output_type": "execute_result",
          "data": {
            "text/plain": [
              "array([0.6 , 0.6 , 0.6 , ..., 0.57, 0.57, 0.57])"
            ]
          },
          "metadata": {
            "tags": []
          },
          "execution_count": 43
        }
      ]
    },
    {
      "cell_type": "code",
      "metadata": {
        "colab": {
          "base_uri": "https://localhost:8080/"
        },
        "id": "46yRKi6dstJg",
        "outputId": "9df176f1-340a-4b76-a620-593a9ed58b6e"
      },
      "source": [
        "# Split the data\n",
        "X_train, X_test, y_train, y_test = train_test_split(x, y, test_size=0.2, random_state=73) # random_state to reproduce the same result, and test size will the 33% of the train data\n",
        "print(\"X_train = \",X_train.shape)\n",
        "print(\"y_train\",y_train.shape)\n",
        "print(\"X_test = \",X_test.shape)\n",
        "print(\"y_test\",y_test.shape)"
      ],
      "execution_count": 44,
      "outputs": [
        {
          "output_type": "stream",
          "text": [
            "X_train =  (844, 4)\n",
            "y_train (844,)\n",
            "X_test =  (212, 4)\n",
            "y_test (212,)\n"
          ],
          "name": "stdout"
        }
      ]
    },
    {
      "cell_type": "code",
      "metadata": {
        "colab": {
          "base_uri": "https://localhost:8080/"
        },
        "id": "Rh-plofvtBiz",
        "outputId": "90edd8ca-a723-4d72-eefd-7e121b5467bd"
      },
      "source": [
        "SEED = 1111\n",
        "np.random.seed(SEED)\n",
        "#  initial parameters from Keras Tuner bayesian optimization\n",
        "\n",
        "# fit\n",
        "def create_mlp(num_columns, num_labels, hidden_units, dropout_rates, label_smoothing, learning_rate):\n",
        "\n",
        "    inp = tf.keras.layers.Input(shape=(num_columns,))\n",
        "    x = tf.keras.layers.BatchNormalization()(inp)\n",
        "    x = tf.keras.layers.Dropout(dropout_rates[0])(x)\n",
        "    for i in range(len(hidden_units)):\n",
        "        x = tf.keras.layers.Dense(hidden_units[i])(x)\n",
        "        x = tf.keras.layers.BatchNormalization()(x)\n",
        "        x = tf.keras.layers.Activation(tf.keras.activations.swish)(x)\n",
        "        x = tf.keras.layers.Dropout(dropout_rates[i + 1])(x)\n",
        "    \n",
        "    x = tf.keras.layers.Dense(num_labels)(x)\n",
        "    out = tf.keras.layers.Activation(\"sigmoid\")(x)\n",
        "\n",
        "    model = tf.keras.models.Model(inputs=inp, outputs=out)\n",
        "    model.compile(\n",
        "        optimizer=tf.keras.optimizers.Adam(0.001), # RectifiedAdam Optimizer (known to be robust to the choice in learning rate)\n",
        "        loss=tf.keras.losses.BinaryCrossentropy(label_smoothing=label_smoothing),\n",
        "        metrics=tf.keras.metrics.AUC(name=\"AUC\"),\n",
        "    ) \n",
        "\n",
        "    return model\n",
        "\n",
        "num_columns = 4\n",
        "num_labels = 1\n",
        "epochs = 10 \n",
        "batch_size = 4096\n",
        "hidden_units = [160, 160, 160]\n",
        "dropout_rates = [0.2, 0.2, 0.2, 0.2]\n",
        "label_smoothing = 1e-2\n",
        "#Label Smoothing is a regularization technique that introduces noise for the labels. \n",
        "#This accounts for the fact that datasets may have mistakes in them, so maximizing the likelihood of directly can be harmful.\n",
        "#Assume for a small constant e, the training set label y is correct with probability 1 - e and incorrect otherwise. \n",
        "#Label Smoothing regularizes a model based on a softmax with k output values by replacing the hard 0 and 1 classification targets \n",
        "#with e/k-1 targets of and 1 - e respectively.\n",
        "learning_rate = 1e-2\n",
        "#normally the model training with a batch size of 4096 and learning rate 1e-3 starts to overfit \n",
        "#on the train set after only 10 epochs. \n",
        "\n",
        "tf.keras.backend.clear_session()\n",
        "tf.random.set_seed(SEED)\n",
        "\n",
        "clf = create_mlp(num_columns, num_labels, hidden_units, dropout_rates, label_smoothing, learning_rate)\n",
        "clf.fit(X_train, y_train, epochs=epochs, batch_size=batch_size, verbose=2)"
      ],
      "execution_count": 46,
      "outputs": [
        {
          "output_type": "stream",
          "text": [
            "Epoch 1/10\n",
            "1/1 - 2s - loss: 0.7797 - AUC: 0.0000e+00\n",
            "Epoch 2/10\n",
            "1/1 - 0s - loss: 0.7314 - AUC: 0.0000e+00\n",
            "Epoch 3/10\n",
            "1/1 - 0s - loss: 0.7450 - AUC: 0.0000e+00\n",
            "Epoch 4/10\n",
            "1/1 - 0s - loss: 0.7200 - AUC: 0.0000e+00\n",
            "Epoch 5/10\n",
            "1/1 - 0s - loss: 0.7148 - AUC: 0.0000e+00\n",
            "Epoch 6/10\n",
            "1/1 - 0s - loss: 0.7080 - AUC: 0.0000e+00\n",
            "Epoch 7/10\n",
            "1/1 - 0s - loss: 0.7111 - AUC: 0.0000e+00\n",
            "Epoch 8/10\n",
            "1/1 - 0s - loss: 0.6979 - AUC: 0.0000e+00\n",
            "Epoch 9/10\n",
            "1/1 - 0s - loss: 0.6945 - AUC: 0.0000e+00\n",
            "Epoch 10/10\n",
            "1/1 - 0s - loss: 0.6979 - AUC: 0.0000e+00\n"
          ],
          "name": "stdout"
        },
        {
          "output_type": "execute_result",
          "data": {
            "text/plain": [
              "<tensorflow.python.keras.callbacks.History at 0x7f1b0e279090>"
            ]
          },
          "metadata": {
            "tags": []
          },
          "execution_count": 46
        }
      ]
    },
    {
      "cell_type": "code",
      "metadata": {
        "colab": {
          "base_uri": "https://localhost:8080/"
        },
        "id": "6gs4-rfhuaRB",
        "outputId": "df3e2deb-47d8-42a2-c171-4240518bfa86"
      },
      "source": [
        "print(len(y_test))\n",
        "print(y_test)"
      ],
      "execution_count": 51,
      "outputs": [
        {
          "output_type": "stream",
          "text": [
            "212\n",
            "[0.62 0.56 0.62 0.4  0.71 0.77 0.59 0.61 0.57 0.71 0.57 0.71 0.58 0.61\n",
            " 0.53 0.72 0.6  0.41 0.54 0.51 0.84 0.58 0.6  0.83 0.6  0.42 0.63 0.54\n",
            " 0.6  0.57 0.63 0.53 0.74 0.54 0.64 0.54 0.45 0.6  0.67 0.69 0.54 0.6\n",
            " 0.55 0.6  0.57 0.59 0.6  0.56 0.5  0.56 0.55 0.57 0.6  0.74 0.62 0.42\n",
            " 0.55 0.61 0.54 0.61 0.83 0.61 0.66 0.58 0.45 0.63 0.81 0.59 0.59 0.68\n",
            " 0.58 0.89 0.64 0.55 0.56 0.54 0.41 0.63 0.65 0.72 0.56 0.58 0.64 0.56\n",
            " 0.6  0.63 0.6  0.64 0.51 0.54 0.55 0.43 0.72 0.61 0.63 0.6  0.79 0.67\n",
            " 0.39 0.69 0.63 0.63 0.59 0.6  0.47 0.61 0.57 0.57 0.61 0.57 0.65 0.62\n",
            " 0.6  0.54 0.55 0.58 0.59 0.43 0.65 0.54 0.4  0.54 0.54 0.56 0.51 0.61\n",
            " 0.45 0.62 0.83 0.61 0.64 0.63 0.58 0.53 0.52 0.41 0.8  0.63 0.57 0.58\n",
            " 0.43 0.72 0.55 0.56 0.59 0.65 0.63 0.55 0.55 0.69 0.51 0.61 0.75 0.56\n",
            " 0.55 0.58 0.54 0.56 0.55 0.55 0.56 0.71 0.46 0.63 0.59 0.77 0.62 0.81\n",
            " 0.72 0.57 0.62 0.59 0.61 0.4  0.59 0.52 0.63 0.57 0.55 0.55 0.57 0.54\n",
            " 0.43 0.69 0.61 0.55 0.41 0.65 0.6  0.47 0.63 0.53 0.56 0.56 0.55 0.62\n",
            " 0.54 0.56 0.55 0.6  0.5  0.67 0.54 0.65 0.64 0.59 0.57 0.72 0.56 0.58\n",
            " 0.6  0.55]\n"
          ],
          "name": "stdout"
        }
      ]
    },
    {
      "cell_type": "code",
      "metadata": {
        "id": "G6OKoukvyCxP"
      },
      "source": [
        ""
      ],
      "execution_count": null,
      "outputs": []
    }
  ]
}