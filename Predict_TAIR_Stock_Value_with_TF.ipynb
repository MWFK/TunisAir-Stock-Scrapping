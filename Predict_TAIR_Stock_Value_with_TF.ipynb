{
  "nbformat": 4,
  "nbformat_minor": 0,
  "metadata": {
    "colab": {
      "name": "Predict TAIR Stock Value with TF.ipynb",
      "provenance": [],
      "authorship_tag": "ABX9TyN6OdQK984UipcLUjs9Yxx7",
      "include_colab_link": true
    },
    "kernelspec": {
      "name": "python3",
      "display_name": "Python 3"
    },
    "language_info": {
      "name": "python"
    }
  },
  "cells": [
    {
      "cell_type": "markdown",
      "metadata": {
        "id": "view-in-github",
        "colab_type": "text"
      },
      "source": [
        "<a href=\"https://colab.research.google.com/github/MWFK/TunisAir-Stock-Scrapping-Predicting/blob/main/Predict_TAIR_Stock_Value_with_TF.ipynb\" target=\"_parent\"><img src=\"https://colab.research.google.com/assets/colab-badge.svg\" alt=\"Open In Colab\"/></a>"
      ]
    },
    {
      "cell_type": "code",
      "metadata": {
        "id": "2SC_mGuTnejo"
      },
      "source": [
        "import pandas as pd\n",
        "\n",
        "import tensorflow as tf"
      ],
      "execution_count": 1,
      "outputs": []
    },
    {
      "cell_type": "code",
      "metadata": {
        "colab": {
          "base_uri": "https://localhost:8080/",
          "height": 423
        },
        "id": "XxI1ojjDnqnt",
        "outputId": "f7246b4b-e86f-4daf-e253-a2befcd2e563"
      },
      "source": [
        "url = 'https://raw.githubusercontent.com/MWFK/TunisAir-Stock-Scrapping-Predicting/main/TAIR_21_20_19_18_17.csv'\n",
        "column_names = ['symbole', 'date', 'ouverture', 'haut', 'bas', 'cloture', 'volume']\n",
        "\n",
        "raw_dataset = pd.read_csv(url, names=column_names,sep=';')\n",
        "raw_dataset"
      ],
      "execution_count": 3,
      "outputs": [
        {
          "output_type": "execute_result",
          "data": {
            "text/html": [
              "<div>\n",
              "<style scoped>\n",
              "    .dataframe tbody tr th:only-of-type {\n",
              "        vertical-align: middle;\n",
              "    }\n",
              "\n",
              "    .dataframe tbody tr th {\n",
              "        vertical-align: top;\n",
              "    }\n",
              "\n",
              "    .dataframe thead th {\n",
              "        text-align: right;\n",
              "    }\n",
              "</style>\n",
              "<table border=\"1\" class=\"dataframe\">\n",
              "  <thead>\n",
              "    <tr style=\"text-align: right;\">\n",
              "      <th></th>\n",
              "      <th>symbole</th>\n",
              "      <th>date</th>\n",
              "      <th>ouverture</th>\n",
              "      <th>haut</th>\n",
              "      <th>bas</th>\n",
              "      <th>cloture</th>\n",
              "      <th>volume</th>\n",
              "    </tr>\n",
              "  </thead>\n",
              "  <tbody>\n",
              "    <tr>\n",
              "      <th>0</th>\n",
              "      <td>symbole</td>\n",
              "      <td>date</td>\n",
              "      <td>ouverture</td>\n",
              "      <td>haut</td>\n",
              "      <td>bas</td>\n",
              "      <td>cloture</td>\n",
              "      <td>volume</td>\n",
              "    </tr>\n",
              "    <tr>\n",
              "      <th>1</th>\n",
              "      <td>TAIR</td>\n",
              "      <td>02/01/2017</td>\n",
              "      <td>0,6</td>\n",
              "      <td>0,6</td>\n",
              "      <td>0,59</td>\n",
              "      <td>0,6</td>\n",
              "      <td>4651</td>\n",
              "    </tr>\n",
              "    <tr>\n",
              "      <th>2</th>\n",
              "      <td>TAIR</td>\n",
              "      <td>03/01/2017</td>\n",
              "      <td>0,6</td>\n",
              "      <td>0,6</td>\n",
              "      <td>0,59</td>\n",
              "      <td>0,6</td>\n",
              "      <td>1159</td>\n",
              "    </tr>\n",
              "    <tr>\n",
              "      <th>3</th>\n",
              "      <td>TAIR</td>\n",
              "      <td>04/01/2017</td>\n",
              "      <td>0,6</td>\n",
              "      <td>0,6</td>\n",
              "      <td>0,59</td>\n",
              "      <td>0,6</td>\n",
              "      <td>19524</td>\n",
              "    </tr>\n",
              "    <tr>\n",
              "      <th>4</th>\n",
              "      <td>TAIR</td>\n",
              "      <td>05/01/2017</td>\n",
              "      <td>0,6</td>\n",
              "      <td>0,6</td>\n",
              "      <td>0,59</td>\n",
              "      <td>0,6</td>\n",
              "      <td>2205</td>\n",
              "    </tr>\n",
              "    <tr>\n",
              "      <th>...</th>\n",
              "      <td>...</td>\n",
              "      <td>...</td>\n",
              "      <td>...</td>\n",
              "      <td>...</td>\n",
              "      <td>...</td>\n",
              "      <td>...</td>\n",
              "      <td>...</td>\n",
              "    </tr>\n",
              "    <tr>\n",
              "      <th>1052</th>\n",
              "      <td>TAIR</td>\n",
              "      <td>14/06/2021</td>\n",
              "      <td>0,59</td>\n",
              "      <td>0,59</td>\n",
              "      <td>0,58</td>\n",
              "      <td>0,58</td>\n",
              "      <td>15785</td>\n",
              "    </tr>\n",
              "    <tr>\n",
              "      <th>1053</th>\n",
              "      <td>TAIR</td>\n",
              "      <td>15/06/2021</td>\n",
              "      <td>0,58</td>\n",
              "      <td>0,58</td>\n",
              "      <td>0,57</td>\n",
              "      <td>0,57</td>\n",
              "      <td>28264</td>\n",
              "    </tr>\n",
              "    <tr>\n",
              "      <th>1054</th>\n",
              "      <td>TAIR</td>\n",
              "      <td>16/06/2021</td>\n",
              "      <td>0,58</td>\n",
              "      <td>0,58</td>\n",
              "      <td>0,57</td>\n",
              "      <td>0,57</td>\n",
              "      <td>4176</td>\n",
              "    </tr>\n",
              "    <tr>\n",
              "      <th>1055</th>\n",
              "      <td>TAIR</td>\n",
              "      <td>17/06/2021</td>\n",
              "      <td>0,57</td>\n",
              "      <td>0,57</td>\n",
              "      <td>0,56</td>\n",
              "      <td>0,57</td>\n",
              "      <td>4201</td>\n",
              "    </tr>\n",
              "    <tr>\n",
              "      <th>1056</th>\n",
              "      <td>TAIR</td>\n",
              "      <td>18/06/2021</td>\n",
              "      <td>0,57</td>\n",
              "      <td>0,57</td>\n",
              "      <td>0,56</td>\n",
              "      <td>0,57</td>\n",
              "      <td>16507</td>\n",
              "    </tr>\n",
              "  </tbody>\n",
              "</table>\n",
              "<p>1057 rows × 7 columns</p>\n",
              "</div>"
            ],
            "text/plain": [
              "      symbole        date  ouverture  haut   bas  cloture  volume\n",
              "0     symbole        date  ouverture  haut   bas  cloture  volume\n",
              "1        TAIR  02/01/2017        0,6   0,6  0,59      0,6    4651\n",
              "2        TAIR  03/01/2017        0,6   0,6  0,59      0,6    1159\n",
              "3        TAIR  04/01/2017        0,6   0,6  0,59      0,6   19524\n",
              "4        TAIR  05/01/2017        0,6   0,6  0,59      0,6    2205\n",
              "...       ...         ...        ...   ...   ...      ...     ...\n",
              "1052     TAIR  14/06/2021       0,59  0,59  0,58     0,58   15785\n",
              "1053     TAIR  15/06/2021       0,58  0,58  0,57     0,57   28264\n",
              "1054     TAIR  16/06/2021       0,58  0,58  0,57     0,57    4176\n",
              "1055     TAIR  17/06/2021       0,57  0,57  0,56     0,57    4201\n",
              "1056     TAIR  18/06/2021       0,57  0,57  0,56     0,57   16507\n",
              "\n",
              "[1057 rows x 7 columns]"
            ]
          },
          "metadata": {
            "tags": []
          },
          "execution_count": 3
        }
      ]
    },
    {
      "cell_type": "code",
      "metadata": {
        "id": "uU6g0KGZoe84"
      },
      "source": [
        ""
      ],
      "execution_count": null,
      "outputs": []
    }
  ]
}